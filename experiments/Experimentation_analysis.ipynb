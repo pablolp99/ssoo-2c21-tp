{
 "cells": [
  {
   "cell_type": "code",
   "execution_count": 75,
   "id": "1565f443-2365-4313-8079-20b9250cc55a",
   "metadata": {},
   "outputs": [],
   "source": [
    "import numpy as np\n",
    "import pandas as pd\n",
    "import matplotlib.pyplot as plt"
   ]
  },
  {
   "cell_type": "code",
   "execution_count": 106,
   "id": "8fa40fa2-ce65-40e0-9700-2bf0e49380e0",
   "metadata": {},
   "outputs": [],
   "source": [
    "df = pd.read_csv(\"results_max.csv\")"
   ]
  },
  {
   "cell_type": "code",
   "execution_count": 107,
   "id": "46f25264-c149-476a-ac6d-f6ebd02ffe74",
   "metadata": {},
   "outputs": [
    {
     "data": {
      "text/html": [
       "<div>\n",
       "<style scoped>\n",
       "    .dataframe tbody tr th:only-of-type {\n",
       "        vertical-align: middle;\n",
       "    }\n",
       "\n",
       "    .dataframe tbody tr th {\n",
       "        vertical-align: top;\n",
       "    }\n",
       "\n",
       "    .dataframe thead th {\n",
       "        text-align: right;\n",
       "    }\n",
       "</style>\n",
       "<table border=\"1\" class=\"dataframe\">\n",
       "  <thead>\n",
       "    <tr style=\"text-align: right;\">\n",
       "      <th></th>\n",
       "      <th>thread_count</th>\n",
       "      <th>id</th>\n",
       "      <th>time</th>\n",
       "      <th>function</th>\n",
       "      <th>file_count</th>\n",
       "    </tr>\n",
       "  </thead>\n",
       "  <tbody>\n",
       "    <tr>\n",
       "      <th>0</th>\n",
       "      <td>1</td>\n",
       "      <td>0</td>\n",
       "      <td>233861</td>\n",
       "      <td>max</td>\n",
       "      <td>-1</td>\n",
       "    </tr>\n",
       "    <tr>\n",
       "      <th>1</th>\n",
       "      <td>1</td>\n",
       "      <td>1</td>\n",
       "      <td>223420</td>\n",
       "      <td>max</td>\n",
       "      <td>-1</td>\n",
       "    </tr>\n",
       "    <tr>\n",
       "      <th>2</th>\n",
       "      <td>1</td>\n",
       "      <td>2</td>\n",
       "      <td>204042</td>\n",
       "      <td>max</td>\n",
       "      <td>-1</td>\n",
       "    </tr>\n",
       "    <tr>\n",
       "      <th>3</th>\n",
       "      <td>1</td>\n",
       "      <td>3</td>\n",
       "      <td>200525</td>\n",
       "      <td>max</td>\n",
       "      <td>-1</td>\n",
       "    </tr>\n",
       "    <tr>\n",
       "      <th>4</th>\n",
       "      <td>1</td>\n",
       "      <td>4</td>\n",
       "      <td>156649</td>\n",
       "      <td>max</td>\n",
       "      <td>-1</td>\n",
       "    </tr>\n",
       "  </tbody>\n",
       "</table>\n",
       "</div>"
      ],
      "text/plain": [
       "   thread_count  id    time function  file_count\n",
       "0             1   0  233861      max          -1\n",
       "1             1   1  223420      max          -1\n",
       "2             1   2  204042      max          -1\n",
       "3             1   3  200525      max          -1\n",
       "4             1   4  156649      max          -1"
      ]
     },
     "execution_count": 107,
     "metadata": {},
     "output_type": "execute_result"
    }
   ],
   "source": [
    "df.head()"
   ]
  },
  {
   "cell_type": "code",
   "execution_count": 108,
   "id": "b8bb0308-fd80-4bff-a84b-ef0589931c24",
   "metadata": {},
   "outputs": [],
   "source": [
    "threads = [1, 2, 4, 8, 16, 26, 32, 48, 64]"
   ]
  },
  {
   "cell_type": "code",
   "execution_count": 110,
   "id": "54d40465-5f39-48a6-9947-a85bc8a42f8e",
   "metadata": {},
   "outputs": [],
   "source": [
    "max_times = df[['thread_count','time']]"
   ]
  },
  {
   "cell_type": "code",
   "execution_count": 117,
   "id": "44f478cf-0643-4def-99dd-b67e8b1c687b",
   "metadata": {},
   "outputs": [
    {
     "data": {
      "text/plain": [
       "[None, None, None, None, None, None, None, None, None]"
      ]
     },
     "execution_count": 117,
     "metadata": {},
     "output_type": "execute_result"
    }
   ],
   "source": [
    "rows = []\n",
    "[rows.append(max_times[max_times.thread_count==i]['time']) for i in threads]"
   ]
  },
  {
   "cell_type": "code",
   "execution_count": 124,
   "id": "bf388af6-eb4b-4bb8-ae13-9f80522b1820",
   "metadata": {},
   "outputs": [],
   "source": [
    "rows = np.array(rows)\n",
    "data = pd.DataFrame(rows, columns=threads)"
   ]
  },
  {
   "cell_type": "code",
   "execution_count": 132,
   "id": "c1a975fa-809d-4b33-9e65-0d273eb91f28",
   "metadata": {},
   "outputs": [
    {
     "data": {
      "image/png": "[encoded data removed]",
      "text/plain": [
       "<Figure size 864x576 with 1 Axes>"
      ]
     },
     "metadata": {
      "needs_background": "light"
     },
     "output_type": "display_data"
    }
   ],
   "source": [
    "ax = data.boxplot(figsize=(12,8), fontsize=18, showfliers=False)\n",
    "ax.set_ylabel(\"Time (ns)\", size=12)\n",
    "ax.set_xlabel(\"Thread count\")\n",
    "ax.set_title(\"maximoParalelo\")\n",
    "plt.show()"
   ]
  }
 ],
 "metadata": {
  "kernelspec": {
   "display_name": "Python 3 (ipykernel)",
   "language": "python",
   "name": "python3"
  },
  "language_info": {
   "codemirror_mode": {
    "name": "ipython",
    "version": 3
   },
   "file_extension": ".py",
   "mimetype": "text/x-python",
   "name": "python",
   "nbconvert_exporter": "python",
   "pygments_lexer": "ipython3",
   "version": "3.9.6"
  }
 },
 "nbformat": 4,
 "nbformat_minor": 5
}
